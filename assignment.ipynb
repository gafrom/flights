{
 "cells": [
  {
   "cell_type": "markdown",
   "metadata": {},
   "source": [
    "# Predicting of arrival delay of a flight\n",
    "\n",
    "Assignment problems and solutions."
   ]
  },
  {
   "cell_type": "markdown",
   "metadata": {},
   "source": [
    "### Importing all we will need"
   ]
  },
  {
   "cell_type": "code",
   "execution_count": 1,
   "metadata": {},
   "outputs": [],
   "source": [
    "import pandas as pd\n",
    "import numpy as np\n",
    "import tensorflow as tf"
   ]
  },
  {
   "cell_type": "markdown",
   "metadata": {},
   "source": [
    "### Loading train data"
   ]
  },
  {
   "cell_type": "code",
   "execution_count": 2,
   "metadata": {},
   "outputs": [
    {
     "name": "stdout",
     "output_type": "stream",
     "text": [
      "(24193, 14)\n"
     ]
    },
    {
     "data": {
      "text/html": [
       "<div>\n",
       "<style scoped>\n",
       "    .dataframe tbody tr th:only-of-type {\n",
       "        vertical-align: middle;\n",
       "    }\n",
       "\n",
       "    .dataframe tbody tr th {\n",
       "        vertical-align: top;\n",
       "    }\n",
       "\n",
       "    .dataframe thead th {\n",
       "        text-align: right;\n",
       "    }\n",
       "</style>\n",
       "<table border=\"1\" class=\"dataframe\">\n",
       "  <thead>\n",
       "    <tr style=\"text-align: right;\">\n",
       "      <th></th>\n",
       "      <th>FL_DATE</th>\n",
       "      <th>ORIGIN</th>\n",
       "      <th>ORIGIN_CITY_NAME</th>\n",
       "      <th>DEST_AIRPORT_ID</th>\n",
       "      <th>DEST_CITY_NAME</th>\n",
       "      <th>CRS_DEP_TIME</th>\n",
       "      <th>DEP_TIME</th>\n",
       "      <th>DEP_DELAY</th>\n",
       "      <th>CRS_ARR_TIME</th>\n",
       "      <th>ARR_TIME</th>\n",
       "      <th>ARR_DELAY</th>\n",
       "      <th>CRS_ELAPSED_TIME</th>\n",
       "      <th>ACTUAL_ELAPSED_TIME</th>\n",
       "      <th>DISTANCE</th>\n",
       "    </tr>\n",
       "  </thead>\n",
       "  <tbody>\n",
       "    <tr>\n",
       "      <th>8144</th>\n",
       "      <td>2018-04-11</td>\n",
       "      <td>BWI</td>\n",
       "      <td>Baltimore, MD</td>\n",
       "      <td>12478</td>\n",
       "      <td>New York, NY</td>\n",
       "      <td>1700</td>\n",
       "      <td>1708.0</td>\n",
       "      <td>8.0</td>\n",
       "      <td>1828</td>\n",
       "      <td>1911.0</td>\n",
       "      <td>43.0</td>\n",
       "      <td>88.0</td>\n",
       "      <td>123.0</td>\n",
       "      <td>184.0</td>\n",
       "    </tr>\n",
       "    <tr>\n",
       "      <th>13358</th>\n",
       "      <td>2018-04-17</td>\n",
       "      <td>BOS</td>\n",
       "      <td>Boston, MA</td>\n",
       "      <td>12953</td>\n",
       "      <td>New York, NY</td>\n",
       "      <td>1300</td>\n",
       "      <td>1329.0</td>\n",
       "      <td>29.0</td>\n",
       "      <td>1428</td>\n",
       "      <td>1438.0</td>\n",
       "      <td>10.0</td>\n",
       "      <td>88.0</td>\n",
       "      <td>69.0</td>\n",
       "      <td>184.0</td>\n",
       "    </tr>\n",
       "    <tr>\n",
       "      <th>8047</th>\n",
       "      <td>2018-04-10</td>\n",
       "      <td>PBI</td>\n",
       "      <td>West Palm Beach/Palm Beach, FL</td>\n",
       "      <td>12953</td>\n",
       "      <td>New York, NY</td>\n",
       "      <td>1158</td>\n",
       "      <td>1231.0</td>\n",
       "      <td>33.0</td>\n",
       "      <td>1455</td>\n",
       "      <td>1458.0</td>\n",
       "      <td>3.0</td>\n",
       "      <td>177.0</td>\n",
       "      <td>147.0</td>\n",
       "      <td>1035.0</td>\n",
       "    </tr>\n",
       "    <tr>\n",
       "      <th>9348</th>\n",
       "      <td>2018-04-12</td>\n",
       "      <td>SDF</td>\n",
       "      <td>Louisville, KY</td>\n",
       "      <td>12953</td>\n",
       "      <td>New York, NY</td>\n",
       "      <td>1529</td>\n",
       "      <td>1541.0</td>\n",
       "      <td>12.0</td>\n",
       "      <td>1740</td>\n",
       "      <td>1746.0</td>\n",
       "      <td>6.0</td>\n",
       "      <td>131.0</td>\n",
       "      <td>125.0</td>\n",
       "      <td>659.0</td>\n",
       "    </tr>\n",
       "    <tr>\n",
       "      <th>2049</th>\n",
       "      <td>2018-04-03</td>\n",
       "      <td>DCA</td>\n",
       "      <td>Washington, DC</td>\n",
       "      <td>12953</td>\n",
       "      <td>New York, NY</td>\n",
       "      <td>600</td>\n",
       "      <td>553.0</td>\n",
       "      <td>-7.0</td>\n",
       "      <td>719</td>\n",
       "      <td>656.0</td>\n",
       "      <td>-23.0</td>\n",
       "      <td>79.0</td>\n",
       "      <td>63.0</td>\n",
       "      <td>214.0</td>\n",
       "    </tr>\n",
       "  </tbody>\n",
       "</table>\n",
       "</div>"
      ],
      "text/plain": [
       "          FL_DATE ORIGIN                ORIGIN_CITY_NAME  DEST_AIRPORT_ID  \\\n",
       "8144   2018-04-11    BWI                   Baltimore, MD            12478   \n",
       "13358  2018-04-17    BOS                      Boston, MA            12953   \n",
       "8047   2018-04-10    PBI  West Palm Beach/Palm Beach, FL            12953   \n",
       "9348   2018-04-12    SDF                  Louisville, KY            12953   \n",
       "2049   2018-04-03    DCA                  Washington, DC            12953   \n",
       "\n",
       "      DEST_CITY_NAME  CRS_DEP_TIME  DEP_TIME  DEP_DELAY  CRS_ARR_TIME  \\\n",
       "8144    New York, NY          1700    1708.0        8.0          1828   \n",
       "13358   New York, NY          1300    1329.0       29.0          1428   \n",
       "8047    New York, NY          1158    1231.0       33.0          1455   \n",
       "9348    New York, NY          1529    1541.0       12.0          1740   \n",
       "2049    New York, NY           600     553.0       -7.0           719   \n",
       "\n",
       "       ARR_TIME  ARR_DELAY  CRS_ELAPSED_TIME  ACTUAL_ELAPSED_TIME  DISTANCE  \n",
       "8144     1911.0       43.0              88.0                123.0     184.0  \n",
       "13358    1438.0       10.0              88.0                 69.0     184.0  \n",
       "8047     1458.0        3.0             177.0                147.0    1035.0  \n",
       "9348     1746.0        6.0             131.0                125.0     659.0  \n",
       "2049      656.0      -23.0              79.0                 63.0     214.0  "
      ]
     },
     "execution_count": 2,
     "metadata": {},
     "output_type": "execute_result"
    }
   ],
   "source": [
    "flights_data = pd.read_table('./data/flights.csv', sep=',')\n",
    "flights_data = flights_data.reindex(np.random.permutation(flights_data.index))\n",
    "\n",
    "print(flights_data.shape)\n",
    "flights_data.head()"
   ]
  },
  {
   "cell_type": "code",
   "execution_count": 3,
   "metadata": {},
   "outputs": [
    {
     "data": {
      "text/html": [
       "<div>\n",
       "<style scoped>\n",
       "    .dataframe tbody tr th:only-of-type {\n",
       "        vertical-align: middle;\n",
       "    }\n",
       "\n",
       "    .dataframe tbody tr th {\n",
       "        vertical-align: top;\n",
       "    }\n",
       "\n",
       "    .dataframe thead th {\n",
       "        text-align: right;\n",
       "    }\n",
       "</style>\n",
       "<table border=\"1\" class=\"dataframe\">\n",
       "  <thead>\n",
       "    <tr style=\"text-align: right;\">\n",
       "      <th></th>\n",
       "      <th>DEST_AIRPORT_ID</th>\n",
       "      <th>CRS_DEP_TIME</th>\n",
       "      <th>DEP_TIME</th>\n",
       "      <th>DEP_DELAY</th>\n",
       "      <th>CRS_ARR_TIME</th>\n",
       "      <th>ARR_TIME</th>\n",
       "      <th>ARR_DELAY</th>\n",
       "      <th>CRS_ELAPSED_TIME</th>\n",
       "      <th>ACTUAL_ELAPSED_TIME</th>\n",
       "      <th>DISTANCE</th>\n",
       "    </tr>\n",
       "  </thead>\n",
       "  <tbody>\n",
       "    <tr>\n",
       "      <th>count</th>\n",
       "      <td>24193.000000</td>\n",
       "      <td>24193.000000</td>\n",
       "      <td>24193.000000</td>\n",
       "      <td>24193.000000</td>\n",
       "      <td>24193.000000</td>\n",
       "      <td>24193.000000</td>\n",
       "      <td>24193.000000</td>\n",
       "      <td>24193.000000</td>\n",
       "      <td>24193.000000</td>\n",
       "      <td>24193.000000</td>\n",
       "    </tr>\n",
       "    <tr>\n",
       "      <th>mean</th>\n",
       "      <td>12747.944819</td>\n",
       "      <td>1297.970405</td>\n",
       "      <td>1306.464019</td>\n",
       "      <td>15.961890</td>\n",
       "      <td>1470.617906</td>\n",
       "      <td>1466.216716</td>\n",
       "      <td>8.430827</td>\n",
       "      <td>159.705948</td>\n",
       "      <td>152.170339</td>\n",
       "      <td>933.514033</td>\n",
       "    </tr>\n",
       "    <tr>\n",
       "      <th>std</th>\n",
       "      <td>235.278286</td>\n",
       "      <td>480.470027</td>\n",
       "      <td>498.578465</td>\n",
       "      <td>53.782423</td>\n",
       "      <td>520.283262</td>\n",
       "      <td>538.381581</td>\n",
       "      <td>57.276402</td>\n",
       "      <td>76.843112</td>\n",
       "      <td>75.426896</td>\n",
       "      <td>706.125616</td>\n",
       "    </tr>\n",
       "    <tr>\n",
       "      <th>min</th>\n",
       "      <td>12478.000000</td>\n",
       "      <td>30.000000</td>\n",
       "      <td>1.000000</td>\n",
       "      <td>-49.000000</td>\n",
       "      <td>2.000000</td>\n",
       "      <td>1.000000</td>\n",
       "      <td>-65.000000</td>\n",
       "      <td>50.000000</td>\n",
       "      <td>39.000000</td>\n",
       "      <td>94.000000</td>\n",
       "    </tr>\n",
       "    <tr>\n",
       "      <th>25%</th>\n",
       "      <td>12478.000000</td>\n",
       "      <td>900.000000</td>\n",
       "      <td>901.000000</td>\n",
       "      <td>-5.000000</td>\n",
       "      <td>1045.000000</td>\n",
       "      <td>1040.000000</td>\n",
       "      <td>-19.000000</td>\n",
       "      <td>102.000000</td>\n",
       "      <td>98.000000</td>\n",
       "      <td>419.000000</td>\n",
       "    </tr>\n",
       "    <tr>\n",
       "      <th>50%</th>\n",
       "      <td>12953.000000</td>\n",
       "      <td>1252.000000</td>\n",
       "      <td>1302.000000</td>\n",
       "      <td>-2.000000</td>\n",
       "      <td>1514.000000</td>\n",
       "      <td>1513.000000</td>\n",
       "      <td>-8.000000</td>\n",
       "      <td>136.000000</td>\n",
       "      <td>130.000000</td>\n",
       "      <td>740.000000</td>\n",
       "    </tr>\n",
       "    <tr>\n",
       "      <th>75%</th>\n",
       "      <td>12953.000000</td>\n",
       "      <td>1700.000000</td>\n",
       "      <td>1717.000000</td>\n",
       "      <td>12.000000</td>\n",
       "      <td>1905.000000</td>\n",
       "      <td>1914.000000</td>\n",
       "      <td>12.000000</td>\n",
       "      <td>185.000000</td>\n",
       "      <td>180.000000</td>\n",
       "      <td>1096.000000</td>\n",
       "    </tr>\n",
       "    <tr>\n",
       "      <th>max</th>\n",
       "      <td>12953.000000</td>\n",
       "      <td>2359.000000</td>\n",
       "      <td>2400.000000</td>\n",
       "      <td>1659.000000</td>\n",
       "      <td>2359.000000</td>\n",
       "      <td>2400.000000</td>\n",
       "      <td>1685.000000</td>\n",
       "      <td>585.000000</td>\n",
       "      <td>609.000000</td>\n",
       "      <td>4983.000000</td>\n",
       "    </tr>\n",
       "  </tbody>\n",
       "</table>\n",
       "</div>"
      ],
      "text/plain": [
       "       DEST_AIRPORT_ID  CRS_DEP_TIME      DEP_TIME     DEP_DELAY  \\\n",
       "count     24193.000000  24193.000000  24193.000000  24193.000000   \n",
       "mean      12747.944819   1297.970405   1306.464019     15.961890   \n",
       "std         235.278286    480.470027    498.578465     53.782423   \n",
       "min       12478.000000     30.000000      1.000000    -49.000000   \n",
       "25%       12478.000000    900.000000    901.000000     -5.000000   \n",
       "50%       12953.000000   1252.000000   1302.000000     -2.000000   \n",
       "75%       12953.000000   1700.000000   1717.000000     12.000000   \n",
       "max       12953.000000   2359.000000   2400.000000   1659.000000   \n",
       "\n",
       "       CRS_ARR_TIME      ARR_TIME     ARR_DELAY  CRS_ELAPSED_TIME  \\\n",
       "count  24193.000000  24193.000000  24193.000000      24193.000000   \n",
       "mean    1470.617906   1466.216716      8.430827        159.705948   \n",
       "std      520.283262    538.381581     57.276402         76.843112   \n",
       "min        2.000000      1.000000    -65.000000         50.000000   \n",
       "25%     1045.000000   1040.000000    -19.000000        102.000000   \n",
       "50%     1514.000000   1513.000000     -8.000000        136.000000   \n",
       "75%     1905.000000   1914.000000     12.000000        185.000000   \n",
       "max     2359.000000   2400.000000   1685.000000        585.000000   \n",
       "\n",
       "       ACTUAL_ELAPSED_TIME      DISTANCE  \n",
       "count         24193.000000  24193.000000  \n",
       "mean            152.170339    933.514033  \n",
       "std              75.426896    706.125616  \n",
       "min              39.000000     94.000000  \n",
       "25%              98.000000    419.000000  \n",
       "50%             130.000000    740.000000  \n",
       "75%             180.000000   1096.000000  \n",
       "max             609.000000   4983.000000  "
      ]
     },
     "execution_count": 3,
     "metadata": {},
     "output_type": "execute_result"
    }
   ],
   "source": [
    "flights_data.describe()"
   ]
  },
  {
   "cell_type": "markdown",
   "metadata": {},
   "source": [
    "### Understanding data\n",
    "\n",
    "1. All given times are actual strings converted to numbers.\n",
    "2. All counts are the same suggesting that there are no missing values.\n",
    "3. Means of times all make sense except for minutes - they are wrong (biased), since there are no mins after 60 - but not a big deal - looks like we would not need them. The rest:<br>\n",
    "   Dep time is about 1 o'clock, so there is no imbalance.<br>\n",
    "   CRS dep time is 10 minutes to actual - makes sense.<br>\n",
    "   CRS arr time is around 1.5 hours after dep time - makes sense.<br>\n",
    "   Factual arr time is a few minutes earlier than sheduled - that's always the case based on my experience.<br>\n",
    "   Time intervals and distance all as well seem to be fine.<br>\n",
    "4. Std dev and percentiles all make sense as well.\n",
    "5. Mins and maxes have negative numbers suggesting there are many flights arriving ahead of shedule.<br>\n",
    "   Delay and elapsed time are apparently in minutes. Delays are with a few max outliers of 30 hours delay.\n",
    "   \n",
    "\n",
    "Let's visualize hists on dep time, elapsed time and distances to confirm our understanding."
   ]
  },
  {
   "cell_type": "code",
   "execution_count": 4,
   "metadata": {},
   "outputs": [],
   "source": [
    "flights_data.hist('DEP_TIME', bins = 20); None"
   ]
  },
  {
   "cell_type": "code",
   "execution_count": 5,
   "metadata": {},
   "outputs": [
    {
     "data": {
      "image/png": "[encoded data removed]",
      "text/plain": [
       "<matplotlib.figure.Figure at 0x112dee9e8>"
      ]
     },
     "metadata": {
      "needs_background": "light"
     },
     "output_type": "display_data"
    }
   ],
   "source": [
    "flights_data.hist('ACTUAL_ELAPSED_TIME', bins = 30); None"
   ]
  },
  {
   "cell_type": "code",
   "execution_count": 6,
   "metadata": {},
   "outputs": [
    {
     "data": {
      "image/png": "[encoded data removed]",
      "text/plain": [
       "<matplotlib.figure.Figure at 0x112f3aeb8>"
      ]
     },
     "metadata": {
      "needs_background": "light"
     },
     "output_type": "display_data"
    }
   ],
   "source": [
    "flights_data.hist('DISTANCE', bins = 30); None"
   ]
  },
  {
   "cell_type": "markdown",
   "metadata": {},
   "source": [
    "Everything is as expected with histograms."
   ]
  },
  {
   "cell_type": "markdown",
   "metadata": {},
   "source": [
    "## Problem #1\n",
    "\n",
    "#### a) What is the average duration of all the flights that landed in NY in April?"
   ]
  },
  {
   "cell_type": "code",
   "execution_count": 7,
   "metadata": {},
   "outputs": [
    {
     "name": "stdout",
     "output_type": "stream",
     "text": [
      "Size of the data filtered by NY & April: 24193 records.\n",
      "Size of the original dataset: 24193 records.\n"
     ]
    }
   ],
   "source": [
    "# first, let's filter out NY April flights\n",
    "to_NY_in_april = (flights_data['FL_DATE'] >= '2018-04-01') &\\\n",
    "                 (flights_data['FL_DATE'] < '2018-05-01') &\\\n",
    "                 (flights_data['DEST_CITY_NAME'] == 'New York, NY')\n",
    "\n",
    "filtered_data_size = flights_data[to_NY_in_april].shape[0]\n",
    "print(f\"Size of the data filtered by NY & April: {filtered_data_size} records.\")\n",
    "print(f\"Size of the original dataset: {flights_data.shape[0]} records.\")"
   ]
  },
  {
   "cell_type": "markdown",
   "metadata": {},
   "source": [
    "The same number of records after filtering - looks like the question is about the whole dataset."
   ]
  },
  {
   "cell_type": "code",
   "execution_count": 8,
   "metadata": {},
   "outputs": [
    {
     "name": "stdout",
     "output_type": "stream",
     "text": [
      "So, the average duration of the flights is just 152.2\n"
     ]
    }
   ],
   "source": [
    "avg_dur = flights_data['ACTUAL_ELAPSED_TIME'].mean()\n",
    "print(f\"So, the average duration of the flights is just {avg_dur:.1f}\")"
   ]
  },
  {
   "cell_type": "markdown",
   "metadata": {},
   "source": [
    "#### b) For every minute in April, compute the average duration of the flights flying at that minute. Compute the average of these averages. Can you explain the difference with a)?"
   ]
  },
  {
   "cell_type": "code",
   "execution_count": 9,
   "metadata": {},
   "outputs": [
    {
     "name": "stdout",
     "output_type": "stream",
     "text": [
      "Avergae duration of hte flights grouped by minutes: 168.8\n"
     ]
    }
   ],
   "source": [
    "avg_dur_by_mins = flights_data.groupby('ARR_TIME').mean()['ACTUAL_ELAPSED_TIME'].mean()\n",
    "print(f\"Avergae duration of hte flights grouped by minutes: {avg_dur_by_mins:.1f}\")"
   ]
  },
  {
   "cell_type": "markdown",
   "metadata": {},
   "source": [
    "Of course the two numbers differ. This is due to the different weight (mass function, probability) applied to the values. In **a)** the weights of durations are all equal to 1. In **b)** durations are wieghted over minutes first.\n",
    "\n",
    "To better illustrate what I mean imagine that there are 101 flights in total. A hundred of them took place at 14:00 and lasted 1 minute each; the last one was at 22:00 and lasted 10 minutes.\n",
    "\n",
    "In average, duration is around 1 minute. But after grouping, the weight of that only flight increased 100 times. And average duration got 5.5 minutes.\n",
    "\n",
    "Now, back to our case. Let's plot durations per minutes and see what caused such a discrepency."
   ]
  },
  {
   "cell_type": "code",
   "execution_count": 10,
   "metadata": {},
   "outputs": [
    {
     "data": {
      "image/png": "[encoded data removed]",
      "text/plain": [
       "<matplotlib.figure.Figure at 0x113224898>"
      ]
     },
     "metadata": {
      "needs_background": "light"
     },
     "output_type": "display_data"
    }
   ],
   "source": [
    "flights_data.plot.scatter('ARR_TIME', 'ACTUAL_ELAPSED_TIME'); None"
   ]
  },
  {
   "cell_type": "markdown",
   "metadata": {},
   "source": [
    "In fact. We see that a lot of flights arrived at the daytime. They create the mass center. Night arrivals contribute just a little.\n",
    "\n",
    "When after squashing by minutes, night flights contribute much more, having their mass at longer duration (around 300).\n",
    "\n",
    "That is why we see the increase in duration after aggregating it by minutes. Below is just another visualization with the mass shifted towards longer duration."
   ]
  },
  {
   "cell_type": "code",
   "execution_count": 11,
   "metadata": {},
   "outputs": [
    {
     "data": {
      "image/png": "[encoded data removed]",
      "text/plain": [
       "<matplotlib.figure.Figure at 0x1135975f8>"
      ]
     },
     "metadata": {
      "needs_background": "light"
     },
     "output_type": "display_data"
    }
   ],
   "source": [
    "flights_data.groupby('ARR_TIME').mean()['ACTUAL_ELAPSED_TIME'].hist(bins = 50); None"
   ]
  },
  {
   "cell_type": "markdown",
   "metadata": {},
   "source": [
    "\n",
    "## Problem #2\n",
    "\n",
    "Build a model to predict the arrival delay of a flight:<br>\n",
    "- beforehand\n",
    "- after the departure\n",
    "\n",
    "Explain the results."
   ]
  },
  {
   "cell_type": "markdown",
   "metadata": {},
   "source": [
    "### Developing a feature set\n",
    "\n",
    "Ideally, we'd like to have features that are strongly correlated with the target.<br>\n",
    "We'd also like to have features that aren't so strongly correlated with each other, so that they add independent information.\n",
    "\n",
    "First, let's see which features correlate.<br>"
   ]
  },
  {
   "cell_type": "code",
   "execution_count": 3,
   "metadata": {},
   "outputs": [
    {
     "data": {
      "text/html": [
       "<div>\n",
       "<style scoped>\n",
       "    .dataframe tbody tr th:only-of-type {\n",
       "        vertical-align: middle;\n",
       "    }\n",
       "\n",
       "    .dataframe tbody tr th {\n",
       "        vertical-align: top;\n",
       "    }\n",
       "\n",
       "    .dataframe thead th {\n",
       "        text-align: right;\n",
       "    }\n",
       "</style>\n",
       "<table border=\"1\" class=\"dataframe\">\n",
       "  <thead>\n",
       "    <tr style=\"text-align: right;\">\n",
       "      <th></th>\n",
       "      <th>DEST_AIRPORT_ID</th>\n",
       "      <th>CRS_DEP_TIME</th>\n",
       "      <th>DEP_TIME</th>\n",
       "      <th>DEP_DELAY</th>\n",
       "      <th>CRS_ARR_TIME</th>\n",
       "      <th>ARR_TIME</th>\n",
       "      <th>ARR_DELAY</th>\n",
       "      <th>CRS_ELAPSED_TIME</th>\n",
       "      <th>ACTUAL_ELAPSED_TIME</th>\n",
       "      <th>DISTANCE</th>\n",
       "    </tr>\n",
       "  </thead>\n",
       "  <tbody>\n",
       "    <tr>\n",
       "      <th>DEST_AIRPORT_ID</th>\n",
       "      <td>1.000000</td>\n",
       "      <td>-0.071416</td>\n",
       "      <td>-0.045427</td>\n",
       "      <td>0.024656</td>\n",
       "      <td>0.110631</td>\n",
       "      <td>0.094954</td>\n",
       "      <td>0.039094</td>\n",
       "      <td>-0.379241</td>\n",
       "      <td>-0.374309</td>\n",
       "      <td>-0.369266</td>\n",
       "    </tr>\n",
       "    <tr>\n",
       "      <th>CRS_DEP_TIME</th>\n",
       "      <td>-0.071416</td>\n",
       "      <td>1.000000</td>\n",
       "      <td>0.938314</td>\n",
       "      <td>0.094443</td>\n",
       "      <td>0.475884</td>\n",
       "      <td>0.437725</td>\n",
       "      <td>0.074419</td>\n",
       "      <td>0.123321</td>\n",
       "      <td>0.114785</td>\n",
       "      <td>0.114102</td>\n",
       "    </tr>\n",
       "    <tr>\n",
       "      <th>DEP_TIME</th>\n",
       "      <td>-0.045427</td>\n",
       "      <td>0.938314</td>\n",
       "      <td>1.000000</td>\n",
       "      <td>0.175153</td>\n",
       "      <td>0.506025</td>\n",
       "      <td>0.475426</td>\n",
       "      <td>0.155368</td>\n",
       "      <td>0.086015</td>\n",
       "      <td>0.080685</td>\n",
       "      <td>0.075889</td>\n",
       "    </tr>\n",
       "    <tr>\n",
       "      <th>DEP_DELAY</th>\n",
       "      <td>0.024656</td>\n",
       "      <td>0.094443</td>\n",
       "      <td>0.175153</td>\n",
       "      <td>1.000000</td>\n",
       "      <td>0.096090</td>\n",
       "      <td>0.091036</td>\n",
       "      <td>0.958692</td>\n",
       "      <td>-0.027413</td>\n",
       "      <td>-0.013051</td>\n",
       "      <td>-0.029501</td>\n",
       "    </tr>\n",
       "    <tr>\n",
       "      <th>CRS_ARR_TIME</th>\n",
       "      <td>0.110631</td>\n",
       "      <td>0.475884</td>\n",
       "      <td>0.506025</td>\n",
       "      <td>0.096090</td>\n",
       "      <td>1.000000</td>\n",
       "      <td>0.846119</td>\n",
       "      <td>0.077176</td>\n",
       "      <td>-0.005309</td>\n",
       "      <td>-0.015316</td>\n",
       "      <td>-0.025532</td>\n",
       "    </tr>\n",
       "    <tr>\n",
       "      <th>ARR_TIME</th>\n",
       "      <td>0.094954</td>\n",
       "      <td>0.437725</td>\n",
       "      <td>0.475426</td>\n",
       "      <td>0.091036</td>\n",
       "      <td>0.846119</td>\n",
       "      <td>1.000000</td>\n",
       "      <td>0.082172</td>\n",
       "      <td>-0.021908</td>\n",
       "      <td>-0.024843</td>\n",
       "      <td>-0.041497</td>\n",
       "    </tr>\n",
       "    <tr>\n",
       "      <th>ARR_DELAY</th>\n",
       "      <td>0.039094</td>\n",
       "      <td>0.074419</td>\n",
       "      <td>0.155368</td>\n",
       "      <td>0.958692</td>\n",
       "      <td>0.077176</td>\n",
       "      <td>0.082172</td>\n",
       "      <td>1.000000</td>\n",
       "      <td>-0.080541</td>\n",
       "      <td>-0.006620</td>\n",
       "      <td>-0.078256</td>\n",
       "    </tr>\n",
       "    <tr>\n",
       "      <th>CRS_ELAPSED_TIME</th>\n",
       "      <td>-0.379241</td>\n",
       "      <td>0.123321</td>\n",
       "      <td>0.086015</td>\n",
       "      <td>-0.027413</td>\n",
       "      <td>-0.005309</td>\n",
       "      <td>-0.021908</td>\n",
       "      <td>-0.080541</td>\n",
       "      <td>1.000000</td>\n",
       "      <td>0.977259</td>\n",
       "      <td>0.995235</td>\n",
       "    </tr>\n",
       "    <tr>\n",
       "      <th>ACTUAL_ELAPSED_TIME</th>\n",
       "      <td>-0.374309</td>\n",
       "      <td>0.114785</td>\n",
       "      <td>0.080685</td>\n",
       "      <td>-0.013051</td>\n",
       "      <td>-0.015316</td>\n",
       "      <td>-0.024843</td>\n",
       "      <td>-0.006620</td>\n",
       "      <td>0.977259</td>\n",
       "      <td>1.000000</td>\n",
       "      <td>0.975623</td>\n",
       "    </tr>\n",
       "    <tr>\n",
       "      <th>DISTANCE</th>\n",
       "      <td>-0.369266</td>\n",
       "      <td>0.114102</td>\n",
       "      <td>0.075889</td>\n",
       "      <td>-0.029501</td>\n",
       "      <td>-0.025532</td>\n",
       "      <td>-0.041497</td>\n",
       "      <td>-0.078256</td>\n",
       "      <td>0.995235</td>\n",
       "      <td>0.975623</td>\n",
       "      <td>1.000000</td>\n",
       "    </tr>\n",
       "  </tbody>\n",
       "</table>\n",
       "</div>"
      ],
      "text/plain": [
       "                     DEST_AIRPORT_ID  CRS_DEP_TIME  DEP_TIME  DEP_DELAY  \\\n",
       "DEST_AIRPORT_ID             1.000000     -0.071416 -0.045427   0.024656   \n",
       "CRS_DEP_TIME               -0.071416      1.000000  0.938314   0.094443   \n",
       "DEP_TIME                   -0.045427      0.938314  1.000000   0.175153   \n",
       "DEP_DELAY                   0.024656      0.094443  0.175153   1.000000   \n",
       "CRS_ARR_TIME                0.110631      0.475884  0.506025   0.096090   \n",
       "ARR_TIME                    0.094954      0.437725  0.475426   0.091036   \n",
       "ARR_DELAY                   0.039094      0.074419  0.155368   0.958692   \n",
       "CRS_ELAPSED_TIME           -0.379241      0.123321  0.086015  -0.027413   \n",
       "ACTUAL_ELAPSED_TIME        -0.374309      0.114785  0.080685  -0.013051   \n",
       "DISTANCE                   -0.369266      0.114102  0.075889  -0.029501   \n",
       "\n",
       "                     CRS_ARR_TIME  ARR_TIME  ARR_DELAY  CRS_ELAPSED_TIME  \\\n",
       "DEST_AIRPORT_ID          0.110631  0.094954   0.039094         -0.379241   \n",
       "CRS_DEP_TIME             0.475884  0.437725   0.074419          0.123321   \n",
       "DEP_TIME                 0.506025  0.475426   0.155368          0.086015   \n",
       "DEP_DELAY                0.096090  0.091036   0.958692         -0.027413   \n",
       "CRS_ARR_TIME             1.000000  0.846119   0.077176         -0.005309   \n",
       "ARR_TIME                 0.846119  1.000000   0.082172         -0.021908   \n",
       "ARR_DELAY                0.077176  0.082172   1.000000         -0.080541   \n",
       "CRS_ELAPSED_TIME        -0.005309 -0.021908  -0.080541          1.000000   \n",
       "ACTUAL_ELAPSED_TIME     -0.015316 -0.024843  -0.006620          0.977259   \n",
       "DISTANCE                -0.025532 -0.041497  -0.078256          0.995235   \n",
       "\n",
       "                     ACTUAL_ELAPSED_TIME  DISTANCE  \n",
       "DEST_AIRPORT_ID                -0.374309 -0.369266  \n",
       "CRS_DEP_TIME                    0.114785  0.114102  \n",
       "DEP_TIME                        0.080685  0.075889  \n",
       "DEP_DELAY                      -0.013051 -0.029501  \n",
       "CRS_ARR_TIME                   -0.015316 -0.025532  \n",
       "ARR_TIME                       -0.024843 -0.041497  \n",
       "ARR_DELAY                      -0.006620 -0.078256  \n",
       "CRS_ELAPSED_TIME                0.977259  0.995235  \n",
       "ACTUAL_ELAPSED_TIME             1.000000  0.975623  \n",
       "DISTANCE                        0.975623  1.000000  "
      ]
     },
     "execution_count": 3,
     "metadata": {},
     "output_type": "execute_result"
    }
   ],
   "source": [
    "flights_data.corr()"
   ]
  },
  {
   "cell_type": "markdown",
   "metadata": {},
   "source": [
    "As expected - after the departure there is a strong correlation with departure delay. But before departure - no features correlate with arr delay, just noise. But, do not be sad, that is only because we did not yet think.\n",
    "\n",
    "Back two days ago when reading the problem in a messager, my first thought was dep airports were to blame for the arrival delays. Either their location is in bad whether conditions (in April or ever), or they are overloaded with traffic and hence crammed and jammed, or the management is bad taking no actions towards improvements.\n",
    "\n",
    "Let's:\n",
    "- use categorical features (ORIGIN and ORIGIN_CITY_NAME) - so far we only used numerical\n",
    "- bin departure time - I do believe there is some correlation there too"
   ]
  },
  {
   "cell_type": "code",
   "execution_count": 3,
   "metadata": {},
   "outputs": [],
   "source": [
    "# Define the input feature\n",
    "features = flights_data[['ORIGIN']]\n",
    "\n",
    "# Configure a categorical feature column for ORIGIN\n",
    "origins = flights_data['ORIGIN'].unique()\n",
    "feature_columns = [tf.feature_column.categorical_column_with_vocabulary_list('ORIGIN', origins)]\n",
    "\n",
    "# Define the label\n",
    "targets = flights_data['ARR_DELAY']"
   ]
  },
  {
   "cell_type": "code",
   "execution_count": 4,
   "metadata": {},
   "outputs": [
    {
     "data": {
      "text/plain": [
       "array(['BWI', 'BOS', 'PBI', 'SDF', 'DCA', 'CLT', 'BHM', 'ORD', 'XNA',\n",
       "       'PHL', 'ORF', 'MIA', 'TPA', 'DTW', 'ATL', 'RIC', 'IAH', 'CAE',\n",
       "       'SFO', 'ROC', 'LAS', 'LAX', 'JAX', 'SLC', 'IND', 'PIT', 'DEN',\n",
       "       'CMH', 'PWM', 'BNA', 'BUF', 'STL', 'BGR', 'IAD', 'CHS', 'CVG',\n",
       "       'MSP', 'MCO', 'AGS', 'SMF', 'GSO', 'RDU', 'SAV', 'SEA', 'MDW',\n",
       "       'PHX', 'FLL', 'DFW', 'BTV', 'SYR', 'RSW', 'MKE', 'ILM', 'CHO',\n",
       "       'MSY', 'PDX', 'SAT', 'CLE', 'MCI', 'AUS', 'OAK', 'DAL', 'HOU',\n",
       "       'SRQ', 'GRR', 'MHT', 'RNO', 'SJU', 'MYR', 'MEM', 'MSN', 'SAN',\n",
       "       'BQN', 'OMA', 'DAB', 'LGB', 'HNL', 'PSP', 'DAY', 'BUR', 'GSP',\n",
       "       'DSM', 'ABQ', 'EGE', 'LEX', 'SJC', 'TYS', 'ROA', 'CAK', 'STT',\n",
       "       'PSE'], dtype=object)"
      ]
     },
     "execution_count": 4,
     "metadata": {},
     "output_type": "execute_result"
    }
   ],
   "source": [
    "origins"
   ]
  },
  {
   "cell_type": "code",
   "execution_count": null,
   "metadata": {},
   "outputs": [],
   "source": []
  }
 ],
 "metadata": {
  "kernelspec": {
   "display_name": "Python 3",
   "language": "python",
   "name": "python3"
  },
  "language_info": {
   "codemirror_mode": {
    "name": "ipython",
    "version": 3
   },
   "file_extension": ".py",
   "mimetype": "text/x-python",
   "name": "python",
   "nbconvert_exporter": "python",
   "pygments_lexer": "ipython3",
   "version": "3.6.1"
  }
 },
 "nbformat": 4,
 "nbformat_minor": 2
}
